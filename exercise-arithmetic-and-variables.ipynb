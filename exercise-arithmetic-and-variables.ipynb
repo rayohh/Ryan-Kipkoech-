{
 "cells": [
  {
   "cell_type": "markdown",
   "id": "ae7ca608",
   "metadata": {
    "papermill": {
     "duration": 0.006599,
     "end_time": "2025-02-26T09:23:16.603143",
     "exception": false,
     "start_time": "2025-02-26T09:23:16.596544",
     "status": "completed"
    },
    "tags": []
   },
   "source": [
    "**This notebook is an exercise in the [Intro to Programming](https://www.kaggle.com/learn/intro-to-programming) course.  You can reference the tutorial at [this link](https://www.kaggle.com/alexisbcook/arithmetic-and-variables).**\n",
    "\n",
    "---\n"
   ]
  },
  {
   "cell_type": "code",
   "execution_count": null,
   "id": "7fac2be2",
   "metadata": {
    "papermill": {
     "duration": 0.006007,
     "end_time": "2025-02-26T09:23:16.615825",
     "exception": false,
     "start_time": "2025-02-26T09:23:16.609818",
     "status": "completed"
    },
    "tags": []
   },
   "outputs": [],
   "source": []
  },
  {
   "cell_type": "code",
   "execution_count": null,
   "id": "eddb8228",
   "metadata": {
    "papermill": {
     "duration": 0.006067,
     "end_time": "2025-02-26T09:23:16.628326",
     "exception": false,
     "start_time": "2025-02-26T09:23:16.622259",
     "status": "completed"
    },
    "tags": []
   },
   "outputs": [],
   "source": []
  },
  {
   "cell_type": "markdown",
   "id": "2643c553",
   "metadata": {
    "papermill": {
     "duration": 0.005761,
     "end_time": "2025-02-26T09:23:16.640442",
     "exception": false,
     "start_time": "2025-02-26T09:23:16.634681",
     "status": "completed"
    },
    "tags": []
   },
   "source": [
    "This exercise will get you started with running your own code.  \n",
    "\n",
    "# Set up the notebook\n",
    "\n",
    "To begin, run the code in the next cell.\n",
    "- Begin by clicking inside the code cell.  \n",
    "- Click on the triangle (in the shape of a \"Play button\") that appears to the left of the code cell.\n",
    "- If your code was run sucessfully, you will see `Setup Complete` as output below the cell.\n",
    "\n",
    "Instead of clicking on the triangle, you can also run code by pressing Shift + Enter on your keyboard.  Try this now!  Nothing bad will happen if you run the code more than once."
   ]
  },
  {
   "cell_type": "code",
   "execution_count": 1,
   "id": "b180452a",
   "metadata": {
    "execution": {
     "iopub.execute_input": "2025-02-26T09:23:16.654079Z",
     "iopub.status.busy": "2025-02-26T09:23:16.653548Z",
     "iopub.status.idle": "2025-02-26T09:23:17.742226Z",
     "shell.execute_reply": "2025-02-26T09:23:17.740947Z"
    },
    "papermill": {
     "duration": 1.09801,
     "end_time": "2025-02-26T09:23:17.744314",
     "exception": false,
     "start_time": "2025-02-26T09:23:16.646304",
     "status": "completed"
    },
    "tags": []
   },
   "outputs": [
    {
     "name": "stdout",
     "output_type": "stream",
     "text": [
      "Setup complete.\n"
     ]
    }
   ],
   "source": [
    "# Set up the exercise\n",
    "from learntools.core import binder\n",
    "binder.bind(globals())\n",
    "from learntools.intro_to_programming.ex1 import *\n",
    "print('Setup complete.')"
   ]
  },
  {
   "cell_type": "markdown",
   "id": "b107bdc1",
   "metadata": {
    "papermill": {
     "duration": 0.00598,
     "end_time": "2025-02-26T09:23:17.756555",
     "exception": false,
     "start_time": "2025-02-26T09:23:17.750575",
     "status": "completed"
    },
    "tags": []
   },
   "source": [
    "The code above sets up the notebook so that it can check your answers in this exercise.  You should never modify this code.  (Otherwise, the notebook won't be able to verify that you have successfully completed the exercise.)\n",
    "\n",
    "After finishing all of the questions below, you'll see the exercise marked as complete on the [course page](http://www.kaggle.com/learn/intro-to-programming).  Once you complete all of the lessons, you'll get a course completion certificate!\n",
    "\n",
    "# Question 1\n",
    "\n",
    "Next, you will run some code from the tutorial, so you can see how it works for yourself.  Run the next code cell without changes."
   ]
  },
  {
   "cell_type": "code",
   "execution_count": 2,
   "id": "261267b1",
   "metadata": {
    "execution": {
     "iopub.execute_input": "2025-02-26T09:23:17.770282Z",
     "iopub.status.busy": "2025-02-26T09:23:17.769750Z",
     "iopub.status.idle": "2025-02-26T09:23:17.779562Z",
     "shell.execute_reply": "2025-02-26T09:23:17.778327Z"
    },
    "papermill": {
     "duration": 0.018505,
     "end_time": "2025-02-26T09:23:17.781106",
     "exception": false,
     "start_time": "2025-02-26T09:23:17.762601",
     "status": "completed"
    },
    "tags": []
   },
   "outputs": [
    {
     "name": "stdout",
     "output_type": "stream",
     "text": [
      "Hello,world!\n"
     ]
    },
    {
     "data": {
      "application/javascript": [
       "parent.postMessage({\"jupyterEvent\": \"custom.exercise_interaction\", \"data\": {\"outcomeType\": 1, \"valueTowardsCompletion\": 0.2, \"interactionType\": 1, \"questionType\": 2, \"questionId\": \"1_RunHelloWorld\", \"learnToolsVersion\": \"0.3.4\", \"failureMessage\": \"\", \"exceptionClass\": \"\", \"trace\": \"\"}}, \"*\")"
      ],
      "text/plain": [
       "<IPython.core.display.Javascript object>"
      ]
     },
     "metadata": {},
     "output_type": "display_data"
    },
    {
     "data": {
      "text/markdown": [
       "<span style=\"color:#33cc33\">If you see 'Hello, world!' above, You have successfully printed a message, and you're ready to move on to the next question.</span>"
      ],
      "text/plain": [
       "If you see 'Hello, world!' above, You have successfully printed a message, and you're ready to move on to the next question."
      ]
     },
     "metadata": {},
     "output_type": "display_data"
    }
   ],
   "source": [
    "print(\"Hello,world!\")\n",
    "\n",
    "# DO NOT REMOVE: Mark this question as completed\n",
    "q1.check()"
   ]
  },
  {
   "cell_type": "code",
   "execution_count": 3,
   "id": "74f7f735",
   "metadata": {
    "execution": {
     "iopub.execute_input": "2025-02-26T09:23:17.795294Z",
     "iopub.status.busy": "2025-02-26T09:23:17.794810Z",
     "iopub.status.idle": "2025-02-26T09:23:17.800242Z",
     "shell.execute_reply": "2025-02-26T09:23:17.798803Z"
    },
    "papermill": {
     "duration": 0.014696,
     "end_time": "2025-02-26T09:23:17.802208",
     "exception": false,
     "start_time": "2025-02-26T09:23:17.787512",
     "status": "completed"
    },
    "tags": []
   },
   "outputs": [
    {
     "name": "stdout",
     "output_type": "stream",
     "text": [
      "Hello, world!\n"
     ]
    }
   ],
   "source": [
    "print(\"Hello, world!\")"
   ]
  },
  {
   "cell_type": "markdown",
   "id": "e4b5a74c",
   "metadata": {
    "papermill": {
     "duration": 0.006154,
     "end_time": "2025-02-26T09:23:17.815205",
     "exception": false,
     "start_time": "2025-02-26T09:23:17.809051",
     "status": "completed"
    },
    "tags": []
   },
   "source": [
    "You just ran code to print `Hello world!`, which you should see in the output above.\n",
    "\n",
    "The second line of code (`q1.check()`) checks your answer.  You should never modify this checking code; if you remove it, you won't get credit for completing the problem.\n",
    "\n",
    "# Question 2\n",
    "\n",
    "Now, you will print another message of your choosing.  To do this, change `print(\"Your message here!\")` to use a different message.  For instance, you might like to change it to something like:\n",
    "- `print(\"Good morning!\")`\n",
    "- `print(\"I am learning how to code :D\")`\n",
    "\n",
    "Or, you might like to see what happens if you write something like `print(\"3+4\")`.  Does it return 7, or does it just think of `\"3+4\"` as just another message?\n",
    "\n",
    "Make sure that your message is enclosed in quotation marks (`\"`), and the message itself does not use quotation marks. For instance, this will throw an error: `print(\"She said \"great job\" and gave me a high-five!\")` because the message contains quotation marks.  If you decide to take the Python course after completing this course, you will learn more about how to avoid this error in [Lesson 6](https://www.kaggle.com/colinmorris/strings-and-dictionaries).\n",
    "\n",
    "Feel free to try out multiple messages!"
   ]
  },
  {
   "cell_type": "code",
   "execution_count": 4,
   "id": "4a09b9c0",
   "metadata": {
    "execution": {
     "iopub.execute_input": "2025-02-26T09:23:17.829876Z",
     "iopub.status.busy": "2025-02-26T09:23:17.829471Z",
     "iopub.status.idle": "2025-02-26T09:23:17.837957Z",
     "shell.execute_reply": "2025-02-26T09:23:17.836994Z"
    },
    "papermill": {
     "duration": 0.017616,
     "end_time": "2025-02-26T09:23:17.839816",
     "exception": false,
     "start_time": "2025-02-26T09:23:17.822200",
     "status": "completed"
    },
    "tags": []
   },
   "outputs": [
    {
     "name": "stdout",
     "output_type": "stream",
     "text": [
      "I am a versatile philosopher.\n"
     ]
    },
    {
     "data": {
      "application/javascript": [
       "parent.postMessage({\"jupyterEvent\": \"custom.exercise_interaction\", \"data\": {\"outcomeType\": 1, \"valueTowardsCompletion\": 0.2, \"interactionType\": 1, \"questionType\": 2, \"questionId\": \"2_PrintAnotherMsg\", \"learnToolsVersion\": \"0.3.4\", \"failureMessage\": \"\", \"exceptionClass\": \"\", \"trace\": \"\"}}, \"*\")"
      ],
      "text/plain": [
       "<IPython.core.display.Javascript object>"
      ]
     },
     "metadata": {},
     "output_type": "display_data"
    },
    {
     "data": {
      "text/markdown": [
       "<span style=\"color:#33cc33\">Once you have printed your own message, you're ready to move on to the next question.</span>"
      ],
      "text/plain": [
       "Once you have printed your own message, you're ready to move on to the next question."
      ]
     },
     "metadata": {},
     "output_type": "display_data"
    }
   ],
   "source": [
    "# TODO: Change the message\n",
    "print(\"I am a versatile philosopher.\")\n",
    "# DO NOT REMOVE: Mark this question as completed \n",
    "q2.check()"
   ]
  },
  {
   "cell_type": "code",
   "execution_count": 5,
   "id": "e2cd04f2",
   "metadata": {
    "execution": {
     "iopub.execute_input": "2025-02-26T09:23:17.854843Z",
     "iopub.status.busy": "2025-02-26T09:23:17.854393Z",
     "iopub.status.idle": "2025-02-26T09:23:17.859491Z",
     "shell.execute_reply": "2025-02-26T09:23:17.858309Z"
    },
    "papermill": {
     "duration": 0.014812,
     "end_time": "2025-02-26T09:23:17.861385",
     "exception": false,
     "start_time": "2025-02-26T09:23:17.846573",
     "status": "completed"
    },
    "tags": []
   },
   "outputs": [
    {
     "name": "stdout",
     "output_type": "stream",
     "text": [
      "I am a veratile philosopher\n"
     ]
    }
   ],
   "source": [
    "print(\"I am a veratile philosopher\")"
   ]
  },
  {
   "cell_type": "markdown",
   "id": "2bf01bd5",
   "metadata": {
    "papermill": {
     "duration": 0.00636,
     "end_time": "2025-02-26T09:23:17.874660",
     "exception": false,
     "start_time": "2025-02-26T09:23:17.868300",
     "status": "completed"
    },
    "tags": []
   },
   "source": [
    "# Question 3\n",
    "\n",
    "As you learned in the tutorial, a comment in Python has a pound sign (`#`) in front of it, which tells Python to ignore the text after it.\n",
    "\n",
    "Putting a pound sign in front of a line of code will make Python ignore that code.  For instance, this line would be ignored by Python, and nothing would appear in the output:\n",
    "```python\n",
    "#print(1+2)\n",
    "```\n",
    "Removing the pound sign will make it so that you can run the code again. When we remove the pound sign in front of a line of code, we call this **uncommenting**.\n",
    "\n",
    "In this problem, you will uncomment two lines in the code cell below and view the output:\n",
    "- Remove the `#` in front of `q3.hint()`.  To avoid errors, do NOT remove the `#` in front of `# Uncomment to view hint`.  \n",
    "- Next, remove the `#` in front of `q3.solution()`.\n",
    "\n",
    "As in the previous questions, do not change the final line of code that marks your work as completed."
   ]
  },
  {
   "cell_type": "code",
   "execution_count": 6,
   "id": "09016fb1",
   "metadata": {
    "execution": {
     "iopub.execute_input": "2025-02-26T09:23:17.889332Z",
     "iopub.status.busy": "2025-02-26T09:23:17.888951Z",
     "iopub.status.idle": "2025-02-26T09:23:17.903155Z",
     "shell.execute_reply": "2025-02-26T09:23:17.902137Z"
    },
    "papermill": {
     "duration": 0.023381,
     "end_time": "2025-02-26T09:23:17.904792",
     "exception": false,
     "start_time": "2025-02-26T09:23:17.881411",
     "status": "completed"
    },
    "tags": []
   },
   "outputs": [
    {
     "data": {
      "application/javascript": [
       "parent.postMessage({\"jupyterEvent\": \"custom.exercise_interaction\", \"data\": {\"interactionType\": 2, \"questionType\": 2, \"questionId\": \"3_LearnCheckingCode\", \"learnToolsVersion\": \"0.3.4\", \"valueTowardsCompletion\": 0.0, \"failureMessage\": \"\", \"exceptionClass\": \"\", \"trace\": \"\", \"outcomeType\": 4}}, \"*\")"
      ],
      "text/plain": [
       "<IPython.core.display.Javascript object>"
      ]
     },
     "metadata": {},
     "output_type": "display_data"
    },
    {
     "data": {
      "text/markdown": [
       "<span style=\"color:#3366cc\">Hint:</span> If you're ever stuck on a question, it's a good idea to look at the hint before viewing the solution."
      ],
      "text/plain": [
       "Hint: If you're ever stuck on a question, it's a good idea to look at the hint before viewing the solution."
      ]
     },
     "metadata": {},
     "output_type": "display_data"
    },
    {
     "data": {
      "application/javascript": [
       "parent.postMessage({\"jupyterEvent\": \"custom.exercise_interaction\", \"data\": {\"interactionType\": 3, \"questionType\": 2, \"questionId\": \"3_LearnCheckingCode\", \"learnToolsVersion\": \"0.3.4\", \"valueTowardsCompletion\": 0.0, \"failureMessage\": \"\", \"exceptionClass\": \"\", \"trace\": \"\", \"outcomeType\": 4}}, \"*\")"
      ],
      "text/plain": [
       "<IPython.core.display.Javascript object>"
      ]
     },
     "metadata": {},
     "output_type": "display_data"
    },
    {
     "data": {
      "text/markdown": [
       "<span style=\"color:#33cc99\">Solution:</span> If you're still stuck on a question after viewing the hint and re-reading the tutorial, you can view the solution.  You can also view the solution after you have successfully submitted your own answer, to check if the official solution is any different (there may be more than one right answer!)."
      ],
      "text/plain": [
       "Solution: If you're still stuck on a question after viewing the hint and re-reading the tutorial, you can view the solution.  You can also view the solution after you have successfully submitted your own answer, to check if the official solution is any different (there may be more than one right answer!)."
      ]
     },
     "metadata": {},
     "output_type": "display_data"
    },
    {
     "data": {
      "application/javascript": [
       "parent.postMessage({\"jupyterEvent\": \"custom.exercise_interaction\", \"data\": {\"outcomeType\": 1, \"valueTowardsCompletion\": 0.2, \"interactionType\": 1, \"questionType\": 2, \"questionId\": \"3_LearnCheckingCode\", \"learnToolsVersion\": \"0.3.4\", \"failureMessage\": \"\", \"exceptionClass\": \"\", \"trace\": \"\"}}, \"*\")"
      ],
      "text/plain": [
       "<IPython.core.display.Javascript object>"
      ]
     },
     "metadata": {},
     "output_type": "display_data"
    },
    {
     "data": {
      "text/markdown": [
       "<span style=\"color:#33cc33\">Once you have printed the hint and the solution, you're ready to move on to the next question.</span>"
      ],
      "text/plain": [
       "Once you have printed the hint and the solution, you're ready to move on to the next question."
      ]
     },
     "metadata": {},
     "output_type": "display_data"
    }
   ],
   "source": [
    "# Uncomment to get a hint\n",
    "q3.hint()\n",
    "\n",
    "# Uncomment to view solution\n",
    "q3.solution()\n",
    "\n",
    "# DO NOT REMOVE: Check your answer\n",
    "q3.check()"
   ]
  },
  {
   "cell_type": "code",
   "execution_count": 7,
   "id": "c9af400b",
   "metadata": {
    "execution": {
     "iopub.execute_input": "2025-02-26T09:23:17.920949Z",
     "iopub.status.busy": "2025-02-26T09:23:17.920569Z",
     "iopub.status.idle": "2025-02-26T09:23:17.924711Z",
     "shell.execute_reply": "2025-02-26T09:23:17.923578Z"
    },
    "papermill": {
     "duration": 0.014761,
     "end_time": "2025-02-26T09:23:17.926973",
     "exception": false,
     "start_time": "2025-02-26T09:23:17.912212",
     "status": "completed"
    },
    "tags": []
   },
   "outputs": [],
   "source": [
    "#q3.hint()\n",
    "#q3.sulution()"
   ]
  },
  {
   "cell_type": "markdown",
   "id": "523c4fd3",
   "metadata": {
    "papermill": {
     "duration": 0.006918,
     "end_time": "2025-02-26T09:23:17.941516",
     "exception": false,
     "start_time": "2025-02-26T09:23:17.934598",
     "status": "completed"
    },
    "tags": []
   },
   "source": [
    "In the next question, and in most of the exercises in this course, you will have the option to uncomment to view hints and solutions.  Once you feel comfortable with uncommenting, continue to the next question.\n"
   ]
  },
  {
   "cell_type": "markdown",
   "id": "363c4195",
   "metadata": {
    "papermill": {
     "duration": 0.007391,
     "end_time": "2025-02-26T09:23:17.957576",
     "exception": false,
     "start_time": "2025-02-26T09:23:17.950185",
     "status": "completed"
    },
    "tags": []
   },
   "source": [
    "# Question 4\n",
    "\n",
    "In the tutorial, you defined several variables to calculate the total number of seconds in a year.  Run the next code cell to do the calculation here."
   ]
  },
  {
   "cell_type": "code",
   "execution_count": 8,
   "id": "a7289662",
   "metadata": {
    "execution": {
     "iopub.execute_input": "2025-02-26T09:23:17.973787Z",
     "iopub.status.busy": "2025-02-26T09:23:17.973373Z",
     "iopub.status.idle": "2025-02-26T09:23:17.979074Z",
     "shell.execute_reply": "2025-02-26T09:23:17.977856Z"
    },
    "papermill": {
     "duration": 0.015728,
     "end_time": "2025-02-26T09:23:17.980868",
     "exception": false,
     "start_time": "2025-02-26T09:23:17.965140",
     "status": "completed"
    },
    "tags": []
   },
   "outputs": [
    {
     "name": "stdout",
     "output_type": "stream",
     "text": [
      "126144000\n"
     ]
    }
   ],
   "source": [
    "# Create variables\n",
    "num_years = 4\n",
    "days_per_year = 365 \n",
    "hours_per_day = 24\n",
    "mins_per_hour = 60\n",
    "secs_per_min = 60\n",
    "\n",
    "# Calculate number of seconds in four years\n",
    "total_secs = secs_per_min * mins_per_hour * hours_per_day * days_per_year * num_years\n",
    "print(total_secs)"
   ]
  },
  {
   "cell_type": "code",
   "execution_count": 9,
   "id": "6bcabea2",
   "metadata": {
    "execution": {
     "iopub.execute_input": "2025-02-26T09:23:17.997005Z",
     "iopub.status.busy": "2025-02-26T09:23:17.996517Z",
     "iopub.status.idle": "2025-02-26T09:23:18.002528Z",
     "shell.execute_reply": "2025-02-26T09:23:18.001227Z"
    },
    "papermill": {
     "duration": 0.015964,
     "end_time": "2025-02-26T09:23:18.004303",
     "exception": false,
     "start_time": "2025-02-26T09:23:17.988339",
     "status": "completed"
    },
    "tags": []
   },
   "outputs": [
    {
     "name": "stdout",
     "output_type": "stream",
     "text": [
      "126144000\n"
     ]
    }
   ],
   "source": [
    "num_years=4\n",
    "days_per_year=365\n",
    "hours_per_day=24\n",
    "mins_per_hour=60\n",
    "secs_per_min=60\n",
    "\n",
    "total_secs=secs_per_min*mins_per_hour*hours_per_day*days_per_year*num_years\n",
    "print(total_secs)"
   ]
  },
  {
   "cell_type": "markdown",
   "id": "7a12c621",
   "metadata": {
    "papermill": {
     "duration": 0.006948,
     "end_time": "2025-02-26T09:23:18.018783",
     "exception": false,
     "start_time": "2025-02-26T09:23:18.011835",
     "status": "completed"
    },
    "tags": []
   },
   "source": [
    "Use the next code cell to:\n",
    "- Define a variable `births_per_min` and set it to 250.  (There are on average 250 babies born each minute.)\n",
    "- Define a variable `births_per_day` that contains the average number of babies born each day.  (To set the value of this variable, you should use `births_per_min` and some of the variables from the previous code cell.)\n",
    "\n",
    "Remember you can always get a hint if you need it!"
   ]
  },
  {
   "cell_type": "code",
   "execution_count": 10,
   "id": "b1625030",
   "metadata": {
    "execution": {
     "iopub.execute_input": "2025-02-26T09:23:18.035334Z",
     "iopub.status.busy": "2025-02-26T09:23:18.034859Z",
     "iopub.status.idle": "2025-02-26T09:23:18.043786Z",
     "shell.execute_reply": "2025-02-26T09:23:18.042655Z"
    },
    "papermill": {
     "duration": 0.019286,
     "end_time": "2025-02-26T09:23:18.045714",
     "exception": false,
     "start_time": "2025-02-26T09:23:18.026428",
     "status": "completed"
    },
    "tags": []
   },
   "outputs": [
    {
     "data": {
      "application/javascript": [
       "parent.postMessage({\"jupyterEvent\": \"custom.exercise_interaction\", \"data\": {\"outcomeType\": 1, \"valueTowardsCompletion\": 0.2, \"interactionType\": 1, \"questionType\": 1, \"questionId\": \"4_BirthsPerYear\", \"learnToolsVersion\": \"0.3.4\", \"failureMessage\": \"\", \"exceptionClass\": \"\", \"trace\": \"\"}}, \"*\")"
      ],
      "text/plain": [
       "<IPython.core.display.Javascript object>"
      ]
     },
     "metadata": {},
     "output_type": "display_data"
    },
    {
     "data": {
      "text/markdown": [
       "<span style=\"color:#33cc33\">Correct</span>"
      ],
      "text/plain": [
       "Correct"
      ]
     },
     "metadata": {},
     "output_type": "display_data"
    }
   ],
   "source": [
    "# TODO: Set the value of the births_per_min variable\n",
    "births_per_min = 250\n",
    "mins_per_hour=60\n",
    "hours_per_day=24\n",
    "# TODO: Set the value of the births_per_day variable\n",
    "births_per_day = hours_per_day*mins_per_hour*births_per_min\n",
    "\n",
    "# DO NOT REMOVE: Check your answer\n",
    "q4.check()"
   ]
  },
  {
   "cell_type": "code",
   "execution_count": 11,
   "id": "5e95e7a1",
   "metadata": {
    "execution": {
     "iopub.execute_input": "2025-02-26T09:23:18.062384Z",
     "iopub.status.busy": "2025-02-26T09:23:18.062010Z",
     "iopub.status.idle": "2025-02-26T09:23:18.067396Z",
     "shell.execute_reply": "2025-02-26T09:23:18.066249Z"
    },
    "papermill": {
     "duration": 0.015633,
     "end_time": "2025-02-26T09:23:18.069082",
     "exception": false,
     "start_time": "2025-02-26T09:23:18.053449",
     "status": "completed"
    },
    "tags": []
   },
   "outputs": [
    {
     "name": "stdout",
     "output_type": "stream",
     "text": [
      "360000\n"
     ]
    }
   ],
   "source": [
    "births_per_min=250\n",
    "mins_per_hour=60\n",
    "hours_per_day=24\n",
    "births_per_day=hours_per_day*mins_per_hour*births_per_min\n",
    "print(births_per_day)"
   ]
  },
  {
   "cell_type": "code",
   "execution_count": null,
   "id": "e5f1871d",
   "metadata": {
    "papermill": {
     "duration": 0.007235,
     "end_time": "2025-02-26T09:23:18.084235",
     "exception": false,
     "start_time": "2025-02-26T09:23:18.077000",
     "status": "completed"
    },
    "tags": []
   },
   "outputs": [],
   "source": []
  },
  {
   "cell_type": "code",
   "execution_count": 12,
   "id": "3c4ffcd8",
   "metadata": {
    "execution": {
     "iopub.execute_input": "2025-02-26T09:23:18.100939Z",
     "iopub.status.busy": "2025-02-26T09:23:18.100565Z",
     "iopub.status.idle": "2025-02-26T09:23:18.104841Z",
     "shell.execute_reply": "2025-02-26T09:23:18.103565Z"
    },
    "papermill": {
     "duration": 0.014705,
     "end_time": "2025-02-26T09:23:18.106596",
     "exception": false,
     "start_time": "2025-02-26T09:23:18.091891",
     "status": "completed"
    },
    "tags": []
   },
   "outputs": [],
   "source": [
    "# Uncomment to get a hint\n",
    "#q4.hint()\n",
    "\n",
    "# Uncomment to view solution\n",
    "#q4.solution()"
   ]
  },
  {
   "cell_type": "markdown",
   "id": "18f61661",
   "metadata": {
    "papermill": {
     "duration": 0.007186,
     "end_time": "2025-02-26T09:23:18.121428",
     "exception": false,
     "start_time": "2025-02-26T09:23:18.114242",
     "status": "completed"
    },
    "tags": []
   },
   "source": [
    "# 🌶️ Question 5\n",
    "\n",
    "(Questions marked with a 🌶️ will be a little bit more challenging than the others!  Remember you can always get a hint or view the solution.)\n",
    "\n",
    "The [Titanic competition](https://www.kaggle.com/c/titanic) is Kaggle's most famous data science competition. In this competition, participants are challenged to build a machine learning model that can predict whether or not passengers survived the Titanic shipwreck, based on information like age, sex, family size, and ticket number.\n",
    "\n",
    "Run the next code cell without changes to load and preview the titanic data.\n",
    "\n",
    "Don't worry about the details of the code for now - the end result is just that the all of the titanic data has been loaded in a variable named `titanic_data`.  (In order to learn how to write this code yourself, you can take the [Python course](https://www.kaggle.com/learn/python) and then the [Pandas course](https://www.kaggle.com/learn/pandas).)"
   ]
  },
  {
   "cell_type": "code",
   "execution_count": 13,
   "id": "8b7ea3cd",
   "metadata": {
    "execution": {
     "iopub.execute_input": "2025-02-26T09:23:18.137729Z",
     "iopub.status.busy": "2025-02-26T09:23:18.137359Z",
     "iopub.status.idle": "2025-02-26T09:23:18.182293Z",
     "shell.execute_reply": "2025-02-26T09:23:18.181084Z"
    },
    "papermill": {
     "duration": 0.055208,
     "end_time": "2025-02-26T09:23:18.184260",
     "exception": false,
     "start_time": "2025-02-26T09:23:18.129052",
     "status": "completed"
    },
    "tags": []
   },
   "outputs": [
    {
     "data": {
      "text/html": [
       "<div>\n",
       "<style scoped>\n",
       "    .dataframe tbody tr th:only-of-type {\n",
       "        vertical-align: middle;\n",
       "    }\n",
       "\n",
       "    .dataframe tbody tr th {\n",
       "        vertical-align: top;\n",
       "    }\n",
       "\n",
       "    .dataframe thead th {\n",
       "        text-align: right;\n",
       "    }\n",
       "</style>\n",
       "<table border=\"1\" class=\"dataframe\">\n",
       "  <thead>\n",
       "    <tr style=\"text-align: right;\">\n",
       "      <th></th>\n",
       "      <th>PassengerId</th>\n",
       "      <th>Survived</th>\n",
       "      <th>Pclass</th>\n",
       "      <th>Name</th>\n",
       "      <th>Sex</th>\n",
       "      <th>Age</th>\n",
       "      <th>SibSp</th>\n",
       "      <th>Parch</th>\n",
       "      <th>Ticket</th>\n",
       "      <th>Fare</th>\n",
       "      <th>Cabin</th>\n",
       "      <th>Embarked</th>\n",
       "    </tr>\n",
       "  </thead>\n",
       "  <tbody>\n",
       "    <tr>\n",
       "      <th>0</th>\n",
       "      <td>1</td>\n",
       "      <td>0</td>\n",
       "      <td>3</td>\n",
       "      <td>Braund, Mr. Owen Harris</td>\n",
       "      <td>male</td>\n",
       "      <td>22.0</td>\n",
       "      <td>1</td>\n",
       "      <td>0</td>\n",
       "      <td>A/5 21171</td>\n",
       "      <td>7.2500</td>\n",
       "      <td>NaN</td>\n",
       "      <td>S</td>\n",
       "    </tr>\n",
       "    <tr>\n",
       "      <th>1</th>\n",
       "      <td>2</td>\n",
       "      <td>1</td>\n",
       "      <td>1</td>\n",
       "      <td>Cumings, Mrs. John Bradley (Florence Briggs Th...</td>\n",
       "      <td>female</td>\n",
       "      <td>38.0</td>\n",
       "      <td>1</td>\n",
       "      <td>0</td>\n",
       "      <td>PC 17599</td>\n",
       "      <td>71.2833</td>\n",
       "      <td>C85</td>\n",
       "      <td>C</td>\n",
       "    </tr>\n",
       "    <tr>\n",
       "      <th>2</th>\n",
       "      <td>3</td>\n",
       "      <td>1</td>\n",
       "      <td>3</td>\n",
       "      <td>Heikkinen, Miss. Laina</td>\n",
       "      <td>female</td>\n",
       "      <td>26.0</td>\n",
       "      <td>0</td>\n",
       "      <td>0</td>\n",
       "      <td>STON/O2. 3101282</td>\n",
       "      <td>7.9250</td>\n",
       "      <td>NaN</td>\n",
       "      <td>S</td>\n",
       "    </tr>\n",
       "    <tr>\n",
       "      <th>3</th>\n",
       "      <td>4</td>\n",
       "      <td>1</td>\n",
       "      <td>1</td>\n",
       "      <td>Futrelle, Mrs. Jacques Heath (Lily May Peel)</td>\n",
       "      <td>female</td>\n",
       "      <td>35.0</td>\n",
       "      <td>1</td>\n",
       "      <td>0</td>\n",
       "      <td>113803</td>\n",
       "      <td>53.1000</td>\n",
       "      <td>C123</td>\n",
       "      <td>S</td>\n",
       "    </tr>\n",
       "    <tr>\n",
       "      <th>4</th>\n",
       "      <td>5</td>\n",
       "      <td>0</td>\n",
       "      <td>3</td>\n",
       "      <td>Allen, Mr. William Henry</td>\n",
       "      <td>male</td>\n",
       "      <td>35.0</td>\n",
       "      <td>0</td>\n",
       "      <td>0</td>\n",
       "      <td>373450</td>\n",
       "      <td>8.0500</td>\n",
       "      <td>NaN</td>\n",
       "      <td>S</td>\n",
       "    </tr>\n",
       "  </tbody>\n",
       "</table>\n",
       "</div>"
      ],
      "text/plain": [
       "   PassengerId  Survived  Pclass  \\\n",
       "0            1         0       3   \n",
       "1            2         1       1   \n",
       "2            3         1       3   \n",
       "3            4         1       1   \n",
       "4            5         0       3   \n",
       "\n",
       "                                                Name     Sex   Age  SibSp  \\\n",
       "0                            Braund, Mr. Owen Harris    male  22.0      1   \n",
       "1  Cumings, Mrs. John Bradley (Florence Briggs Th...  female  38.0      1   \n",
       "2                             Heikkinen, Miss. Laina  female  26.0      0   \n",
       "3       Futrelle, Mrs. Jacques Heath (Lily May Peel)  female  35.0      1   \n",
       "4                           Allen, Mr. William Henry    male  35.0      0   \n",
       "\n",
       "   Parch            Ticket     Fare Cabin Embarked  \n",
       "0      0         A/5 21171   7.2500   NaN        S  \n",
       "1      0          PC 17599  71.2833   C85        C  \n",
       "2      0  STON/O2. 3101282   7.9250   NaN        S  \n",
       "3      0            113803  53.1000  C123        S  \n",
       "4      0            373450   8.0500   NaN        S  "
      ]
     },
     "execution_count": 13,
     "metadata": {},
     "output_type": "execute_result"
    }
   ],
   "source": [
    "# Load the data from the titanic competition\n",
    "import pandas as pd\n",
    "titanic_data = pd.read_csv(\"../input/titanic/train.csv\")\n",
    "\n",
    "# Show the first five rows of the data\n",
    "titanic_data.head()"
   ]
  },
  {
   "cell_type": "markdown",
   "id": "25342cc4",
   "metadata": {
    "papermill": {
     "duration": 0.007342,
     "end_time": "2025-02-26T09:23:18.199673",
     "exception": false,
     "start_time": "2025-02-26T09:23:18.192331",
     "status": "completed"
    },
    "tags": []
   },
   "source": [
    "The data has a different row for each passenger.  \n",
    "\n",
    "The next code cell defines and prints the values of three variables:  \n",
    "- `total` = total number of passengers who boarded the ship\n",
    "- `survived` = number of passengers who survived the shipwreck\n",
    "- `minors` = number of passengers under 18 years of age\n",
    "\n",
    "Run the code cell without changes.  (Don't worry about the details of how these variables are calculated for now.  You can learn more about how to calculate these values in the [Pandas course](https://www.kaggle.com/learn/pandas).)"
   ]
  },
  {
   "cell_type": "code",
   "execution_count": 14,
   "id": "0e2bb359",
   "metadata": {
    "execution": {
     "iopub.execute_input": "2025-02-26T09:23:18.216585Z",
     "iopub.status.busy": "2025-02-26T09:23:18.216207Z",
     "iopub.status.idle": "2025-02-26T09:23:18.228452Z",
     "shell.execute_reply": "2025-02-26T09:23:18.227165Z"
    },
    "papermill": {
     "duration": 0.023005,
     "end_time": "2025-02-26T09:23:18.230407",
     "exception": false,
     "start_time": "2025-02-26T09:23:18.207402",
     "status": "completed"
    },
    "tags": []
   },
   "outputs": [
    {
     "name": "stdout",
     "output_type": "stream",
     "text": [
      "891\n",
      "342\n",
      "113\n"
     ]
    },
    {
     "name": "stderr",
     "output_type": "stream",
     "text": [
      "/usr/local/lib/python3.10/dist-packages/pandas/core/computation/expressions.py:73: RuntimeWarning: invalid value encountered in less\n",
      "  return op(a, b)\n"
     ]
    }
   ],
   "source": [
    "# Number of total passengers\n",
    "total = len(titanic_data)\n",
    "print(total)\n",
    "\n",
    "# Number of passengers who survived\n",
    "survived = (titanic_data.Survived == 1).sum()\n",
    "print(survived)\n",
    "\n",
    "# Number of passengers under 18\n",
    "minors = (titanic_data.Age < 18).sum()\n",
    "print(minors)"
   ]
  },
  {
   "cell_type": "markdown",
   "id": "ce4c01f3",
   "metadata": {
    "papermill": {
     "duration": 0.007868,
     "end_time": "2025-02-26T09:23:18.246609",
     "exception": false,
     "start_time": "2025-02-26T09:23:18.238741",
     "status": "completed"
    },
    "tags": []
   },
   "source": [
    "So, \n",
    "- `total = 891` (there were 891 passengers on board the Titanic),\n",
    "- `survived = 342` (342 passengers survived), and \n",
    "- `minors = 113` (113 passengers were under the age of 18).\n",
    "\n",
    "In the code cell below, replace the underlines (`____`) with code to calculate the values for two more variables:\n",
    "- `survived_fraction` should be set to the fraction of passengers who survived the Titanic disaster.\n",
    "- `minors_fraction` should be the fraction of passengers who were minors (under the age of 18).\n",
    "\n",
    "For each variable, your answer should be a number between 0 and 1.  \n",
    "\n",
    "If you need a hint or want to view the solution, you can skip to the next code cell and uncomment the appropriate lines of code (`q5.hint()` and `q5.solution()`)."
   ]
  },
  {
   "cell_type": "code",
   "execution_count": 15,
   "id": "06ad2e98",
   "metadata": {
    "execution": {
     "iopub.execute_input": "2025-02-26T09:23:18.263979Z",
     "iopub.status.busy": "2025-02-26T09:23:18.263558Z",
     "iopub.status.idle": "2025-02-26T09:23:18.272948Z",
     "shell.execute_reply": "2025-02-26T09:23:18.271985Z"
    },
    "papermill": {
     "duration": 0.020345,
     "end_time": "2025-02-26T09:23:18.274852",
     "exception": false,
     "start_time": "2025-02-26T09:23:18.254507",
     "status": "completed"
    },
    "tags": []
   },
   "outputs": [
    {
     "name": "stdout",
     "output_type": "stream",
     "text": [
      "0.3838383838383838\n",
      "0.12682379349046016\n"
     ]
    },
    {
     "data": {
      "application/javascript": [
       "parent.postMessage({\"jupyterEvent\": \"custom.exercise_interaction\", \"data\": {\"outcomeType\": 1, \"valueTowardsCompletion\": 0.2, \"interactionType\": 1, \"questionType\": 1, \"questionId\": \"5_BonusTitanic\", \"learnToolsVersion\": \"0.3.4\", \"failureMessage\": \"\", \"exceptionClass\": \"\", \"trace\": \"\"}}, \"*\")"
      ],
      "text/plain": [
       "<IPython.core.display.Javascript object>"
      ]
     },
     "metadata": {},
     "output_type": "display_data"
    },
    {
     "data": {
      "text/markdown": [
       "<span style=\"color:#33cc33\">Correct</span>"
      ],
      "text/plain": [
       "Correct"
      ]
     },
     "metadata": {},
     "output_type": "display_data"
    }
   ],
   "source": [
    "# TODO: Fill in the value of the survived_fraction variable\n",
    "survived_fraction =survived/total\n",
    "\n",
    "# Print the value of the variable\n",
    "print(survived_fraction)\n",
    "\n",
    "# TODO: Fill in the value of the minors_fraction variable\n",
    "minors_fraction =minors/total\n",
    "\n",
    "# Print the value of the variable\n",
    "print(minors_fraction)\n",
    "\n",
    "# DO NOT REMOVE: Check your answer\n",
    "q5.check()"
   ]
  },
  {
   "cell_type": "code",
   "execution_count": 16,
   "id": "33ea79d1",
   "metadata": {
    "execution": {
     "iopub.execute_input": "2025-02-26T09:23:18.293778Z",
     "iopub.status.busy": "2025-02-26T09:23:18.293416Z",
     "iopub.status.idle": "2025-02-26T09:23:18.301166Z",
     "shell.execute_reply": "2025-02-26T09:23:18.300044Z"
    },
    "papermill": {
     "duration": 0.019469,
     "end_time": "2025-02-26T09:23:18.302701",
     "exception": false,
     "start_time": "2025-02-26T09:23:18.283232",
     "status": "completed"
    },
    "tags": []
   },
   "outputs": [
    {
     "data": {
      "application/javascript": [
       "parent.postMessage({\"jupyterEvent\": \"custom.exercise_interaction\", \"data\": {\"interactionType\": 3, \"questionType\": 1, \"questionId\": \"5_BonusTitanic\", \"learnToolsVersion\": \"0.3.4\", \"valueTowardsCompletion\": 0.0, \"failureMessage\": \"\", \"exceptionClass\": \"\", \"trace\": \"\", \"outcomeType\": 4}}, \"*\")"
      ],
      "text/plain": [
       "<IPython.core.display.Javascript object>"
      ]
     },
     "metadata": {},
     "output_type": "display_data"
    },
    {
     "data": {
      "text/markdown": [
       "<span style=\"color:#33cc99\">Solution:</span> \n",
       "```python\n",
       "# Fill in the value of the survived_fraction variable \n",
       "survived_fraction = survived/total\n",
       "\n",
       "# Print the value of the survived_fraction variable\n",
       "print(survived_fraction)\n",
       "\n",
       "# Fill in the value of the minors_fraction variable\n",
       "minors_fraction = minors/total \n",
       "\n",
       "# Print the value of the minors_fraction variable\n",
       "print(minors_fraction)\n",
       "\n",
       "```"
      ],
      "text/plain": [
       "Solution: \n",
       "```python\n",
       "# Fill in the value of the survived_fraction variable \n",
       "survived_fraction = survived/total\n",
       "\n",
       "# Print the value of the survived_fraction variable\n",
       "print(survived_fraction)\n",
       "\n",
       "# Fill in the value of the minors_fraction variable\n",
       "minors_fraction = minors/total \n",
       "\n",
       "# Print the value of the minors_fraction variable\n",
       "print(minors_fraction)\n",
       "\n",
       "```"
      ]
     },
     "metadata": {},
     "output_type": "display_data"
    }
   ],
   "source": [
    "# Uncomment to receive a hint\n",
    "#q5.hint()\n",
    "\n",
    "# Uncomment to view the solution\n",
    "q5.solution()"
   ]
  },
  {
   "cell_type": "markdown",
   "id": "cf087f97",
   "metadata": {
    "papermill": {
     "duration": 0.008554,
     "end_time": "2025-02-26T09:23:18.319951",
     "exception": false,
     "start_time": "2025-02-26T09:23:18.311397",
     "status": "completed"
    },
    "tags": []
   },
   "source": [
    "# Bonus Exercise\n",
    "\n",
    "As an **optional** next step, you're encouraged to make a submission to the Titanic competition.  \n",
    "> To do this, follow the instructions in the **[notebook here](https://www.kaggle.com/alexisbcook/titanic-tutorial)**.  \n",
    "\n",
    "The notebook is beginner-friendly and does not assume you have any experience with coding.  At the same time, you'll learn how to author your own notebooks on Kaggle, and it gives you a great idea of what you'll be able to do if you continue to learn data science!\n",
    "\n",
    "# Keep going\n",
    "\n",
    "Congratulations!  You have just finished the first exercise in the Intro to Programming course!  \n",
    "\n",
    "You are now ready to learn how to **[organize your code with functions](https://www.kaggle.com/alexisbcook/functions)**."
   ]
  },
  {
   "cell_type": "markdown",
   "id": "1b0dbec6",
   "metadata": {
    "papermill": {
     "duration": 0.008072,
     "end_time": "2025-02-26T09:23:18.336441",
     "exception": false,
     "start_time": "2025-02-26T09:23:18.328369",
     "status": "completed"
    },
    "tags": []
   },
   "source": [
    "---\n",
    "\n",
    "\n",
    "\n",
    "\n",
    "*Have questions or comments? Visit the [course discussion forum](https://www.kaggle.com/learn/intro-to-programming/discussion) to chat with other learners.*"
   ]
  }
 ],
 "metadata": {
  "kaggle": {
   "accelerator": "none",
   "dataSources": [
    {
     "databundleVersionId": 26502,
     "sourceId": 3136,
     "sourceType": "competition"
    }
   ],
   "isGpuEnabled": false,
   "isInternetEnabled": false,
   "language": "python",
   "sourceType": "notebook"
  },
  "kernelspec": {
   "display_name": "Python 3",
   "language": "python",
   "name": "python3"
  },
  "language_info": {
   "codemirror_mode": {
    "name": "ipython",
    "version": 3
   },
   "file_extension": ".py",
   "mimetype": "text/x-python",
   "name": "python",
   "nbconvert_exporter": "python",
   "pygments_lexer": "ipython3",
   "version": "3.10.12"
  },
  "papermill": {
   "default_parameters": {},
   "duration": 5.34608,
   "end_time": "2025-02-26T09:23:18.965160",
   "environment_variables": {},
   "exception": null,
   "input_path": "__notebook__.ipynb",
   "output_path": "__notebook__.ipynb",
   "parameters": {},
   "start_time": "2025-02-26T09:23:13.619080",
   "version": "2.6.0"
  }
 },
 "nbformat": 4,
 "nbformat_minor": 5
}
